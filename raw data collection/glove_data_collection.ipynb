{
 "cells": [
  {
   "attachments": {},
   "cell_type": "markdown",
   "metadata": {},
   "source": [
    "# Data Collection Notebook"
   ]
  },
  {
   "attachments": {},
   "cell_type": "markdown",
   "metadata": {},
   "source": [
    "## Installs"
   ]
  },
  {
   "cell_type": "code",
   "execution_count": null,
   "metadata": {},
   "outputs": [],
   "source": [
    "#!pip install socket\n"
   ]
  },
  {
   "attachments": {},
   "cell_type": "markdown",
   "metadata": {},
   "source": [
    "## Imports"
   ]
  },
  {
   "cell_type": "code",
   "execution_count": 44,
   "metadata": {},
   "outputs": [],
   "source": [
    "import socket\n",
    "import time\n",
    "import warnings\n",
    "warnings.filterwarnings(\"ignore\")\n"
   ]
  },
  {
   "attachments": {},
   "cell_type": "markdown",
   "metadata": {},
   "source": [
    "## Wifi Setup using socket"
   ]
  },
  {
   "cell_type": "code",
   "execution_count": null,
   "metadata": {},
   "outputs": [],
   "source": [
    "# Arduino board IP address and port\n",
    "arduino_ip = \"192.168.0.152\"  # Replace with the actual IP address of your Arduino\n",
    "arduino_port = 8888\n",
    "\n",
    "\n",
    "# Create a socket object\n",
    "sock = socket.socket(socket.AF_INET, socket.SOCK_STREAM)\n",
    "\n",
    "# Connect to the Arduino\n",
    "sock.connect((arduino_ip, arduino_port))\n",
    "\n"
   ]
  },
  {
   "attachments": {},
   "cell_type": "markdown",
   "metadata": {},
   "source": [
    "## create a list of gestures\n"
   ]
  },
  {
   "cell_type": "code",
   "execution_count": null,
   "metadata": {},
   "outputs": [],
   "source": [
    "while True:\n",
    "    user_input_gestures = input('Kindly input a list of gestures seperated by a comma')\n",
    "    if len(user_input_gestures) < 1:\n",
    "        print(\"please provide a list of gestures to continue\")\n",
    "        break\n",
    "    else: \n",
    "        gesture_list = user_input_gestures.split(',')\n",
    "        gesture_dict = {}\n",
    "        for gesture_number, gesture in enumerate(gesture_list):\n",
    "            gesture_dict[gesture.strip().lower()] = gesture_number\n",
    "        print('kindly check the correct spelling and order of gestures in the dictionary below:')\n",
    "        print(gesture_dict)\n",
    "    while True:\n",
    "        user_input_gesture_confirm = input('''Kindly confirm that the above printed dict is okay: 'yes' or 'no' ''')\n",
    "        if user_input_gesture_confirm.lower().strip() in ['yes','no']:\n",
    "            break\n",
    "        else:\n",
    "            print('''please input either 'yes' or 'no' ''')\n",
    "    if user_input_gesture_confirm.lower().strip() == 'yes':\n",
    "        break\n",
    "\n",
    "# lets add 'no gesture' to dict\n",
    "no_gesture_value = len(gesture_dict)\n",
    "gesture_dict['no gesture'] = no_gesture_value"
   ]
  },
  {
   "attachments": {},
   "cell_type": "markdown",
   "metadata": {},
   "source": [
    "# setting up data collection procedure for the "
   ]
  },
  {
   "cell_type": "code",
   "execution_count": 78,
   "metadata": {},
   "outputs": [
    {
     "name": "stdout",
     "output_type": "stream",
     "text": [
      "(0, 20)\n"
     ]
    }
   ],
   "source": [
    "# creating first row (run this cell only once)\n",
    "raw_sensor_data = open(\"raw_sensor_data.txt\", \"w\")\n",
    "column_labels = 'iteration\\tgesture_code\\tsensor_1_ax\\tsensor_1_ay\\tsensor_1_az\\tsensor_1_gx\\tsensor_1_gy\\tsensor_1_gz\\tsensor_2_ax\\tsensor_2_ay\\tsensor_2_az\\tsensor_2_gx\\tsensor_2_gy\\tsensor_2_gz\\tonboard_ax\\tonboard_ay\\tonboard_az\\tonboard_gx\\ttonboard_gy\\tonboard_gz\\n'\n",
    "raw_sensor_data.write(column_labels)\n",
    "raw_sensor_data.close()"
   ]
  },
  {
   "cell_type": "code",
   "execution_count": 74,
   "metadata": {},
   "outputs": [],
   "source": [
    "previous_gesture = 0\n",
    "previous_iteration = 0\n",
    "raw_sensor_data = open(\"raw_sensor_data.txt\", \"w\")"
   ]
  },
  {
   "cell_type": "code",
   "execution_count": null,
   "metadata": {},
   "outputs": [],
   "source": [
    "print('lets start collecting data for individual gestures','\\nwe will run each gesture at least 100 times to collect sufficient data\\n')\n",
    "for gesture,transmit_val in gesture_dict.items():\n",
    "    user_start_confirmation = ''\n",
    "    if transmit_val >= previous_gesture:\n",
    "        print('please make gesture: ', gesture)\n",
    "        gesture_iterations = previous_iteration\n",
    "\n",
    "        while True:\n",
    "            gesture_iterations +=1\n",
    "            print('upcoming gesture iteration count: ',gesture_iterations, ' out of 100', 'for gesture: ', gesture)\n",
    "            user_start_confirmation = input('''enter 'x' to begin data collection for the next iteration, enter 'p' to pause ''')\n",
    "            gesture_data_collection = []\n",
    "            if user_start_confirmation == 'x':\n",
    "                user_save_confirmation = ''\n",
    "                print('data collection will automatically end after 5 seconds')\n",
    "\n",
    "                flag_Start_time = time.time()\n",
    "                while True:\n",
    "                    if (time.time() - flag_Start_time) > 5:\n",
    "                        print('iteration complete')\n",
    "                        break\n",
    "                    sock.send(str(transmit_val).encode())\n",
    "                    response = sock.recv(1024)\n",
    "                    gesture_data_collection.append(response.decode())\n",
    "                    \n",
    "                        \n",
    "                user_save_confirmation = input('would you like to save this data: enter \"y\" if yes, \"p\" to pause, leave blank if no')\n",
    "                if user_save_confirmation == 'y':\n",
    "                    for a_response in gesture_data_collection:\n",
    "                        raw_sensor_data_string = str(gesture_iterations) + a_response + '\\n'\n",
    "                        raw_sensor_data_string\n",
    "                        raw_sensor_data.write(raw_sensor_data_string)\n",
    "                    print(\"raw sensor data updated\")\n",
    "                    \n",
    "                elif user_save_confirmation == 'p':\n",
    "                    print(\"previous gesture iteration not save,  pausing data collection\")\n",
    "                    user_start_confirmation = 'p'\n",
    "                    gesture_iterations -=1\n",
    "                    break\n",
    "                else:\n",
    "                    print(\"previous gesture iteration not saved, restarting iteration\")\n",
    "                    gesture_iterations -=1\n",
    "                        \n",
    "\n",
    "            elif user_start_confirmation == 'p':\n",
    "                gesture_iterations -=1\n",
    "                print('paused gesture data collection')\n",
    "                break\n",
    "\n",
    "            else:\n",
    "                gesture_iterations -=1\n",
    "                print('''please type 'x' to start next iteration of data ''')\n",
    "\n",
    "        \n",
    "            if gesture_iterations >100:\n",
    "                previous_iteration = 0\n",
    "                break\n",
    "            \n",
    "    if user_start_confirmation == 'p':\n",
    "        previous_gesture = transmit_val\n",
    "        previous_iteration = gesture_iterations\n",
    "        print('paused on gesture: ', gesture)\n",
    "        print('paused on iteration' , previous_iteration)\n",
    "        break"
   ]
  },
  {
   "cell_type": "code",
   "execution_count": null,
   "metadata": {},
   "outputs": [],
   "source": [
    "#close text file\n",
    "raw_sensor_data.close()\n",
    "# Close the socket\n",
    "sock.close()"
   ]
  }
 ],
 "metadata": {
  "kernelspec": {
   "display_name": "Python 3",
   "language": "python",
   "name": "python3"
  },
  "language_info": {
   "codemirror_mode": {
    "name": "ipython",
    "version": 3
   },
   "file_extension": ".py",
   "mimetype": "text/x-python",
   "name": "python",
   "nbconvert_exporter": "python",
   "pygments_lexer": "ipython3",
   "version": "3.10.8"
  },
  "orig_nbformat": 4
 },
 "nbformat": 4,
 "nbformat_minor": 2
}
